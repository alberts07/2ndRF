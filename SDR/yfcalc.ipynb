{
 "cells": [
  {
   "cell_type": "code",
   "execution_count": 1,
   "metadata": {
    "collapsed": false,
    "deletable": true,
    "editable": true
   },
   "outputs": [
    {
     "name": "stdout",
     "output_type": "stream",
     "text": [
      "101.288195264\n",
      "103.328476269\n",
      "(31.958688466204098, '2017-03-09 04:19:55.156844')\n",
      "Attempting to write to file\n",
      "NoiseFigure.xls\n"
     ]
    }
   ],
   "source": [
    "import scipy\n",
    "import yfcalc\n",
    "import importlib\n",
    "N1 = scipy.fromfile(open(\"testN1\"), dtype=scipy.uint8)\n",
    "N1mean=N1.mean()\n",
    "print(N1mean)\n",
    "N2 = scipy.fromfile(open(\"testN2\"), dtype=scipy.uint8)\n",
    "N2mean=N2.mean()\n",
    "print(N2mean)\n",
    "data = yfcalc.NoiseFig(N2mean,N1mean)\n",
    "print(data)\n",
    "yfcalc.filewrite(data)"
   ]
  },
  {
   "cell_type": "code",
   "execution_count": null,
   "metadata": {
    "collapsed": true
   },
   "outputs": [],
   "source": []
  }
 ],
 "metadata": {
  "kernelspec": {
   "display_name": "Python 2",
   "language": "python",
   "name": "python2"
  },
  "language_info": {
   "codemirror_mode": {
    "name": "ipython",
    "version": 2
   },
   "file_extension": ".py",
   "mimetype": "text/x-python",
   "name": "python",
   "nbconvert_exporter": "python",
   "pygments_lexer": "ipython2",
   "version": "2.7.12"
  }
 },
 "nbformat": 4,
 "nbformat_minor": 2
}
