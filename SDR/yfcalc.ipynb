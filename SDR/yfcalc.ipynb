{
 "cells": [
  {
   "cell_type": "code",
   "execution_count": 13,
   "metadata": {
    "collapsed": false,
    "deletable": true,
    "editable": true
   },
   "outputs": [
    {
     "name": "stdout",
     "output_type": "stream",
     "text": [
      "89.1719222753\n",
      "[186 210 159  54 216 231  96  55 161 234  25  55  43 248 115  55  71 231\n",
      "  63  55 145  82  22  55 196  23  92  55 166  34 155  53  48   2 128  50\n",
      " 160   3  84  51 233 131 228  52 125 162  17  54  97 220  98  57 199 197\n",
      " 118  58  42 146  97  58 228 125 132  58 208 243 105  58  58 253 111  58\n",
      " 143 254 123  58  59 182 119  58 142  31 120  58 133 176 121  58  95 222\n",
      " 127  58 134 108 118  58 100  74 114  58]\n",
      "102.238447412\n",
      "[ 81 203  65  55  64  67  62  54 230 198  41  55  32 211 182  55 178  86\n",
      " 128  56  86  55  67  55 250  66  46  53 198  34 162  53 216  35 225  54\n",
      " 232   2  42  52 198 131  92  55 134  35  78  54  80 132 252  52 234 172\n",
      " 170  56 116 119  15  56 159 172 153  55 142  35 208  53 107  23  72  55\n",
      "  91 228 137  55 158 220  83  56 238  19 230  54   9 248 107  55  64 106\n",
      "   3  55  52  75 187  54 114  34  15  55]\n",
      "(2.003299658716294, '2017-03-09 00:04:04.493887')\n"
     ]
    }
   ],
   "source": [
    "import scipy\n",
    "import yfcalc\n",
    "import numpy\n",
    "import importlib\n",
    "importlib.reload(yfcalc)\n",
    "\n",
    "numpy.set_printoptions(threshold=numpy.nan)\n",
    "\n",
    "N1 = scipy.fromfile(open(\"testN1\"), dtype=scipy.uint8)\n",
    "N1mean=N1.mean()\n",
    "print(N1mean)\n",
    "print(N1[:100])\n",
    "N2 = scipy.fromfile(open(\"testN2\"), dtype=scipy.uint8)\n",
    "N2mean=N2.mean()\n",
    "print(N2mean)\n",
    "print(N2[len(N2)-100:])\n",
    "N1=N1[:len(N2)]\n",
    "\n",
    "#print(iz)\n",
    "data=yfcalc.NoiseFig(N2.mean(),N1.mean())\n",
    "print(data)\n",
    "#yfcalc.filewrite(data)\n"
   ]
  },
  {
   "cell_type": "code",
   "execution_count": null,
   "metadata": {
    "collapsed": true,
    "deletable": true,
    "editable": true
   },
   "outputs": [],
   "source": []
  },
  {
   "cell_type": "code",
   "execution_count": null,
   "metadata": {
    "collapsed": true
   },
   "outputs": [],
   "source": []
  }
 ],
 "metadata": {
  "kernelspec": {
   "display_name": "Python 3",
   "language": "python",
   "name": "python3"
  },
  "language_info": {
   "codemirror_mode": {
    "name": "ipython",
    "version": 3
   },
   "file_extension": ".py",
   "mimetype": "text/x-python",
   "name": "python",
   "nbconvert_exporter": "python",
   "pygments_lexer": "ipython3",
   "version": "3.5.2"
  }
 },
 "nbformat": 4,
 "nbformat_minor": 2
}
