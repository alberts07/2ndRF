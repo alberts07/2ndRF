{
 "cells": [
  {
   "cell_type": "code",
   "execution_count": 2,
   "metadata": {
    "collapsed": false,
    "deletable": true,
    "editable": true
   },
   "outputs": [
    {
     "name": "stdout",
     "output_type": "stream",
     "text": [
      "100.153955945\n",
      "102.305247168\n",
      "(31.679689025205, '2017-03-08 20:25:34.549147')\n",
      "Attempting to write to file\n",
      "Failed to write the NoiseFigure\n"
     ]
    }
   ],
   "source": [
    "import scipy\n",
    "import yfcalc\n",
    "\n",
    "N1 = scipy.fromfile(open(\"testN1\"), dtype=scipy.uint8)\n",
    "N1mean=N1.mean()\n",
    "print(N1mean)\n",
    "N2 = scipy.fromfile(open(\"testN2\"), dtype=scipy.uint8)\n",
    "N2mean=N2.mean()\n",
    "print(N2mean)\n",
    "data = yfcalc.NoiseFig(N2mean,N1mean)\n",
    "print(data)\n",
    "yfcalc.filewrite(data)"
   ]
  },
  {
   "cell_type": "code",
   "execution_count": null,
   "metadata": {
    "collapsed": true,
    "deletable": true,
    "editable": true
   },
   "outputs": [],
   "source": []
  }
 ],
 "metadata": {
  "kernelspec": {
   "display_name": "Python 3",
   "language": "python",
   "name": "python3"
  },
  "language_info": {
   "codemirror_mode": {
    "name": "ipython",
    "version": 3
   },
   "file_extension": ".py",
   "mimetype": "text/x-python",
   "name": "python",
   "nbconvert_exporter": "python",
   "pygments_lexer": "ipython3",
   "version": "3.5.2"
  }
 },
 "nbformat": 4,
 "nbformat_minor": 2
}
