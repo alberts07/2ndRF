{
 "cells": [
  {
   "cell_type": "code",
   "execution_count": 32,
   "metadata": {
    "collapsed": false,
    "deletable": true,
    "editable": true
   },
   "outputs": [],
   "source": [
    "from pylab import *\n",
    "import Austins_garbage_file as a"
   ]
  },
  {
   "cell_type": "code",
   "execution_count": 36,
   "metadata": {
    "collapsed": false,
    "deletable": true,
    "editable": true
   },
   "outputs": [
    {
     "name": "stdout",
     "output_type": "stream",
     "text": [
      "[-0.11147422  0.09449959  0.58022845 ..., -0.49535078  0.34974539\n",
      "  0.43871212]\n",
      "-0.000556394\n"
     ]
    }
   ],
   "source": [
    "file = a.readBinFile('/home/user/GNU_Source')\n",
    "print(file)\n",
    "print(file.mean())"
   ]
  },
  {
   "cell_type": "code",
   "execution_count": 35,
   "metadata": {
    "collapsed": false
   },
   "outputs": [
    {
     "name": "stdout",
     "output_type": "stream",
     "text": [
      "[ 0.2339921   1.18931079  0.79881883 ...,  0.4235121   0.47071344\n",
      "  0.44361687]\n",
      "1.00104\n"
     ]
    }
   ],
   "source": [
    "fileN2 = a.readBinFile('/home/user/GNU_Source1')\n",
    "print(fileN2)\n",
    "print(fileN2.mean())"
   ]
  },
  {
   "cell_type": "code",
   "execution_count": null,
   "metadata": {
    "collapsed": true
   },
   "outputs": [],
   "source": []
  }
 ],
 "metadata": {
  "kernelspec": {
   "display_name": "Python 3",
   "language": "python",
   "name": "python3"
  },
  "language_info": {
   "codemirror_mode": {
    "name": "ipython",
    "version": 3
   },
   "file_extension": ".py",
   "mimetype": "text/x-python",
   "name": "python",
   "nbconvert_exporter": "python",
   "pygments_lexer": "ipython3",
   "version": "3.5.2"
  }
 },
 "nbformat": 4,
 "nbformat_minor": 2
}
